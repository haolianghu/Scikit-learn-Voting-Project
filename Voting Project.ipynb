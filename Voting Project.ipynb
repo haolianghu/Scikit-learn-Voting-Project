{
 "cells": [
  {
   "attachments": {},
   "cell_type": "markdown",
   "id": "701fd99e",
   "metadata": {},
   "source": [
    "# Regression\n",
    "We will try to predict the percentage of votes won by Bill Clinton in the 1992\n",
    "election."
   ]
  },
  {
   "attachments": {},
   "cell_type": "markdown",
   "id": "c691822d",
   "metadata": {},
   "source": [
    "### Read the data"
   ]
  },
  {
   "cell_type": "code",
   "execution_count": 1,
   "id": "47526962",
   "metadata": {},
   "outputs": [
    {
     "name": "stderr",
     "output_type": "stream",
     "text": [
      "C:\\Users\\Jack\\AppData\\Local\\Temp\\ipykernel_18172\\1303639836.py:4: ParserWarning: Falling back to the 'python' engine because the 'c' engine does not support regex separators (separators > 1 char and different from '\\s+' are interpreted as regex); you can avoid this warning by specifying engine='python'.\n",
      "  df = pd.read_table('clinton1.dat', delimiter='  \\s+', header=None, names=['county', 'percentVoting', 'age', 'savings', 'income', 'poverty', 'percentVeterans', 'percentFemale', 'popDensity', 'percentNursing', 'crimeIndex'])\n"
     ]
    },
    {
     "data": {
      "text/html": [
       "<div>\n",
       "<style scoped>\n",
       "    .dataframe tbody tr th:only-of-type {\n",
       "        vertical-align: middle;\n",
       "    }\n",
       "\n",
       "    .dataframe tbody tr th {\n",
       "        vertical-align: top;\n",
       "    }\n",
       "\n",
       "    .dataframe thead th {\n",
       "        text-align: right;\n",
       "    }\n",
       "</style>\n",
       "<table border=\"1\" class=\"dataframe\">\n",
       "  <thead>\n",
       "    <tr style=\"text-align: right;\">\n",
       "      <th></th>\n",
       "      <th>county</th>\n",
       "      <th>percentVoting</th>\n",
       "      <th>age</th>\n",
       "      <th>savings</th>\n",
       "      <th>income</th>\n",
       "      <th>poverty</th>\n",
       "      <th>percentVeterans</th>\n",
       "      <th>percentFemale</th>\n",
       "      <th>popDensity</th>\n",
       "      <th>percentNursing</th>\n",
       "      <th>crimeIndex</th>\n",
       "    </tr>\n",
       "  </thead>\n",
       "  <tbody>\n",
       "    <tr>\n",
       "      <th>0</th>\n",
       "      <td>Autauga, AL</td>\n",
       "      <td>30.92</td>\n",
       "      <td>31.7</td>\n",
       "      <td>57623</td>\n",
       "      <td>15768</td>\n",
       "      <td>15.2</td>\n",
       "      <td>10.74</td>\n",
       "      <td>51.41</td>\n",
       "      <td>60.4</td>\n",
       "      <td>2.36</td>\n",
       "      <td>457</td>\n",
       "    </tr>\n",
       "    <tr>\n",
       "      <th>1</th>\n",
       "      <td>Baldwin, AL</td>\n",
       "      <td>26.24</td>\n",
       "      <td>35.5</td>\n",
       "      <td>84935</td>\n",
       "      <td>16954</td>\n",
       "      <td>13.6</td>\n",
       "      <td>9.73</td>\n",
       "      <td>51.34</td>\n",
       "      <td>66.5</td>\n",
       "      <td>5.40</td>\n",
       "      <td>282</td>\n",
       "    </tr>\n",
       "    <tr>\n",
       "      <th>2</th>\n",
       "      <td>Barbour, AL</td>\n",
       "      <td>46.36</td>\n",
       "      <td>32.8</td>\n",
       "      <td>83656</td>\n",
       "      <td>15532</td>\n",
       "      <td>25.0</td>\n",
       "      <td>8.82</td>\n",
       "      <td>53.03</td>\n",
       "      <td>28.8</td>\n",
       "      <td>7.02</td>\n",
       "      <td>47</td>\n",
       "    </tr>\n",
       "    <tr>\n",
       "      <th>3</th>\n",
       "      <td>Blount, AL</td>\n",
       "      <td>32.92</td>\n",
       "      <td>34.5</td>\n",
       "      <td>61249</td>\n",
       "      <td>14820</td>\n",
       "      <td>15.0</td>\n",
       "      <td>9.67</td>\n",
       "      <td>51.15</td>\n",
       "      <td>62.4</td>\n",
       "      <td>2.36</td>\n",
       "      <td>185</td>\n",
       "    </tr>\n",
       "    <tr>\n",
       "      <th>4</th>\n",
       "      <td>Bullock, AL</td>\n",
       "      <td>67.67</td>\n",
       "      <td>31.7</td>\n",
       "      <td>75725</td>\n",
       "      <td>11120</td>\n",
       "      <td>33.0</td>\n",
       "      <td>7.08</td>\n",
       "      <td>50.76</td>\n",
       "      <td>17.6</td>\n",
       "      <td>2.91</td>\n",
       "      <td>141</td>\n",
       "    </tr>\n",
       "  </tbody>\n",
       "</table>\n",
       "</div>"
      ],
      "text/plain": [
       "        county  percentVoting   age  savings  income  poverty  \\\n",
       "0  Autauga, AL          30.92  31.7    57623   15768     15.2   \n",
       "1  Baldwin, AL          26.24  35.5    84935   16954     13.6   \n",
       "2  Barbour, AL          46.36  32.8    83656   15532     25.0   \n",
       "3   Blount, AL          32.92  34.5    61249   14820     15.0   \n",
       "4  Bullock, AL          67.67  31.7    75725   11120     33.0   \n",
       "\n",
       "   percentVeterans  percentFemale  popDensity  percentNursing  crimeIndex  \n",
       "0            10.74          51.41        60.4            2.36         457  \n",
       "1             9.73          51.34        66.5            5.40         282  \n",
       "2             8.82          53.03        28.8            7.02          47  \n",
       "3             9.67          51.15        62.4            2.36         185  \n",
       "4             7.08          50.76        17.6            2.91         141  "
      ]
     },
     "execution_count": 1,
     "metadata": {},
     "output_type": "execute_result"
    }
   ],
   "source": [
    "import pandas as pd\n",
    "\n",
    "# read in the .dat file with variable-length spaces as the delimiter\n",
    "df = pd.read_table('clinton1.dat', delimiter='  \\s+', header=None, names=['county', 'percentVoting', 'age', 'savings', 'income', 'poverty', 'percentVeterans', 'percentFemale', 'popDensity', 'percentNursing', 'crimeIndex'])\n",
    "\n",
    "df.head()"
   ]
  },
  {
   "attachments": {},
   "cell_type": "markdown",
   "id": "2d3616c6",
   "metadata": {},
   "source": [
    "### Predict percentVoting on all regressors."
   ]
  },
  {
   "cell_type": "code",
   "execution_count": 2,
   "id": "a10f0475",
   "metadata": {},
   "outputs": [],
   "source": [
    "import statsmodels.api as sm\n",
    "from patsy import dmatrices"
   ]
  },
  {
   "cell_type": "code",
   "execution_count": 3,
   "id": "cc59fb81",
   "metadata": {},
   "outputs": [
    {
     "data": {
      "text/plain": [
       "0.9992603550295858"
      ]
     },
     "execution_count": 3,
     "metadata": {},
     "output_type": "execute_result"
    }
   ],
   "source": [
    "df['county'].nunique()/len(df)"
   ]
  },
  {
   "cell_type": "code",
   "execution_count": 4,
   "id": "88390952",
   "metadata": {},
   "outputs": [],
   "source": [
    "# Here county is not included because it is almost unique for each row.\n",
    "# Including it won't help us detect overall patterns using regression, and it can cause overfitting.\n",
    "y, X = dmatrices('percentVoting ~ age + savings + income + poverty + percentVeterans + percentFemale + popDensity + percentNursing + crimeIndex', data=df, return_type='dataframe')"
   ]
  },
  {
   "cell_type": "code",
   "execution_count": 5,
   "id": "084c6d11",
   "metadata": {},
   "outputs": [
    {
     "name": "stdout",
     "output_type": "stream",
     "text": [
      "                            OLS Regression Results                            \n",
      "==============================================================================\n",
      "Dep. Variable:          percentVoting   R-squared:                       0.327\n",
      "Model:                            OLS   Adj. R-squared:                  0.325\n",
      "Method:                 Least Squares   F-statistic:                     145.4\n",
      "Date:                Mon, 03 Apr 2023   Prob (F-statistic):          4.12e-224\n",
      "Time:                        20:34:31   Log-Likelihood:                -9576.0\n",
      "No. Observations:                2704   AIC:                         1.917e+04\n",
      "Df Residuals:                    2694   BIC:                         1.923e+04\n",
      "Df Model:                           9                                         \n",
      "Covariance Type:            nonrobust                                         \n",
      "===================================================================================\n",
      "                      coef    std err          t      P>|t|      [0.025      0.975]\n",
      "-----------------------------------------------------------------------------------\n",
      "Intercept         -38.3094      5.818     -6.585      0.000     -49.717     -26.901\n",
      "age                 0.0707      0.060      1.179      0.239      -0.047       0.188\n",
      "savings         -3.077e-05   4.93e-06     -6.247      0.000   -4.04e-05   -2.11e-05\n",
      "income              0.0002   7.42e-05      2.375      0.018    3.08e-05       0.000\n",
      "poverty             0.7669      0.035     22.118      0.000       0.699       0.835\n",
      "percentVeterans     0.3088      0.087      3.554      0.000       0.138       0.479\n",
      "percentFemale       1.1844      0.119      9.985      0.000       0.952       1.417\n",
      "popDensity          0.0019      0.000      9.681      0.000       0.002       0.002\n",
      "percentNursing     -0.0908      0.033     -2.794      0.005      -0.155      -0.027\n",
      "crimeIndex         -0.0013      0.001     -1.469      0.142      -0.003       0.000\n",
      "==============================================================================\n",
      "Omnibus:                       22.560   Durbin-Watson:                   1.360\n",
      "Prob(Omnibus):                  0.000   Jarque-Bera (JB):               28.526\n",
      "Skew:                           0.129   Prob(JB):                     6.39e-07\n",
      "Kurtosis:                       3.432   Cond. No.                     3.62e+06\n",
      "==============================================================================\n",
      "\n",
      "Notes:\n",
      "[1] Standard Errors assume that the covariance matrix of the errors is correctly specified.\n",
      "[2] The condition number is large, 3.62e+06. This might indicate that there are\n",
      "strong multicollinearity or other numerical problems.\n"
     ]
    }
   ],
   "source": [
    "# Set up the model\n",
    "model = sm.OLS(y, X)\n",
    "# Fit model (find the intercept and slope)      \n",
    "result = model.fit()     \n",
    "# Print the summary statistics of the model \n",
    "print(result.summary())"
   ]
  },
  {
   "cell_type": "code",
   "execution_count": 6,
   "id": "37049a5d",
   "metadata": {},
   "outputs": [
    {
     "name": "stdout",
     "output_type": "stream",
     "text": [
      "age                 2.386186e-01\n",
      "crimeIndex          1.419496e-01\n",
      "income              1.761381e-02\n",
      "percentNursing      5.246414e-03\n",
      "percentVeterans     3.852591e-04\n",
      "savings             4.859660e-10\n",
      "Intercept           5.457367e-11\n",
      "popDensity          8.177372e-22\n",
      "percentFemale       4.425751e-23\n",
      "poverty            9.526970e-100\n",
      "dtype: float64\n"
     ]
    }
   ],
   "source": [
    "print(result.pvalues.sort_values(ascending=False))"
   ]
  },
  {
   "attachments": {},
   "cell_type": "markdown",
   "id": "5aa7ac1a",
   "metadata": {},
   "source": [
    "<b>Findings:</b> we can see age and crimeIndex are the two regressors with the worst p-values. "
   ]
  },
  {
   "attachments": {},
   "cell_type": "markdown",
   "id": "d089a6ad",
   "metadata": {},
   "source": [
    "### A formula-creating function\n",
    "We create a function called `formula` that\n",
    "* takes a list of regressors as input, and\n",
    "* outputs the formula for regressing `percentVoting` on these regressors."
   ]
  },
  {
   "cell_type": "code",
   "execution_count": 7,
   "id": "82513f92",
   "metadata": {},
   "outputs": [],
   "source": [
    "def formula(regressors):\n",
    "    return 'percentVoting ~ ' + ' + '.join(regressors)"
   ]
  },
  {
   "cell_type": "code",
   "execution_count": 8,
   "id": "fdd22b89",
   "metadata": {},
   "outputs": [
    {
     "data": {
      "text/plain": [
       "'percentVoting ~ age + savings'"
      ]
     },
     "execution_count": 8,
     "metadata": {},
     "output_type": "execute_result"
    }
   ],
   "source": [
    "formula(['age', 'savings'])"
   ]
  },
  {
   "attachments": {},
   "cell_type": "markdown",
   "id": "4231b53c",
   "metadata": {},
   "source": [
    "### R-squared computation function.\n",
    "We create a function called `rsquared` that with the following properties:\n",
    "* **Input:** a list of regressors (e.g., `['age', 'savings']`),\n",
    "* **Output:** the R-squared of a regression of `percentVoting` with respect to the list of regressors."
   ]
  },
  {
   "cell_type": "code",
   "execution_count": 9,
   "id": "ebaf2e77",
   "metadata": {},
   "outputs": [
    {
     "data": {
      "text/plain": [
       "0.0033799834005024953"
      ]
     },
     "execution_count": 9,
     "metadata": {},
     "output_type": "execute_result"
    }
   ],
   "source": [
    "def rsquared(regressors):\n",
    "    y, X = dmatrices(formula(regressors), data=df, return_type='dataframe')\n",
    "    model = sm.OLS(y, X)\n",
    "    result = model.fit()\n",
    "    return result.rsquared\n",
    "\n",
    "rsquared(['age'])"
   ]
  },
  {
   "attachments": {},
   "cell_type": "markdown",
   "id": "b1a7419c",
   "metadata": {},
   "source": [
    "### Find the next best regressor.\n",
    "We create a function called `best_next_regressor` with the following properties:\n",
    "* **Inputs:**\n",
    "    * a list of regressors (called `current_regressors`), and\n",
    "    * the list of all possible regressors (called `all_regressors`).\n",
    "* **What it does:** For every regressor `x` from the `all_regressors` list that, calculate the R-square if you regressed `percentVoting` using `x` AND all the regressors in `current_regressors`.\n",
    "* **Output:** Return the regressor `x` that gives the highest R-square value above. Also, return this R-square value."
   ]
  },
  {
   "cell_type": "code",
   "execution_count": 10,
   "id": "ed6ef8bc",
   "metadata": {},
   "outputs": [
    {
     "data": {
      "text/plain": [
       "('poverty', 0.2510385196163196)"
      ]
     },
     "execution_count": 10,
     "metadata": {},
     "output_type": "execute_result"
    }
   ],
   "source": [
    "def best_next_regressor(current_regressors, all_regressors):\n",
    "    best_r2 = 0\n",
    "    best_regressor = None\n",
    "    for regressor in all_regressors:\n",
    "        if regressor not in current_regressors:\n",
    "            r2 = rsquared(current_regressors + [regressor])\n",
    "            if r2 > best_r2:\n",
    "                best_r2 = r2\n",
    "                best_regressor = regressor\n",
    "    return best_regressor, best_r2\n",
    "\n",
    "all_regressors = ['age', 'savings', 'income', 'poverty', 'percentVeterans', 'percentFemale', 'popDensity', 'percentNursing', 'crimeIndex']\n",
    "best_next_regressor([], all_regressors)"
   ]
  },
  {
   "attachments": {},
   "cell_type": "markdown",
   "id": "1e9f5fa8",
   "metadata": {},
   "source": [
    "### Feature Selection: pick the k best regressors.\n",
    "We create a function called `best_regressors` that has the following properties:\n",
    "* **Inputs:**\n",
    "    * `k`, which is the number of regressors we want (e.g., `k=3`), and\n",
    "    * `all_regressors`, which again is the list of all possible regressors.\n",
    "* **What it does:** The function `best_regressors` should compute the best `k` regressors by picking them one at a time using the `best_next_regressor` function from Q5.\n",
    "* **Outputs:** The function should return a tuple of the following items:\n",
    "    * a list of the best regressors, in the order in which they were picked, and\n",
    "    * the corresponding R-square values."
   ]
  },
  {
   "cell_type": "code",
   "execution_count": 11,
   "id": "b260bab2",
   "metadata": {},
   "outputs": [
    {
     "data": {
      "text/plain": [
       "(['poverty', 'popDensity', 'percentFemale'],\n",
       " [0.2510385196163196, 0.2858298022910579, 0.30914506632485783])"
      ]
     },
     "execution_count": 11,
     "metadata": {},
     "output_type": "execute_result"
    }
   ],
   "source": [
    "def best_regressors(k, all_regressors):\n",
    "    current_regressors = []\n",
    "    r2s = []\n",
    "    for i in range(k):\n",
    "        best_regressor, best_r2 = best_next_regressor(current_regressors, all_regressors)\n",
    "        current_regressors.append(best_regressor)\n",
    "        r2s.append(best_r2)\n",
    "    return current_regressors, r2s\n",
    "\n",
    "all_regressors = ['age', 'savings', 'income', 'poverty', 'percentVeterans', 'percentFemale', 'popDensity', 'percentNursing', 'crimeIndex']\n",
    "best_regressors(3, all_regressors)"
   ]
  },
  {
   "attachments": {},
   "cell_type": "markdown",
   "id": "66c01538",
   "metadata": {},
   "source": [
    "We run `best_regressors` to output all available regressors in sequence.\n",
    "\n",
    "We are implementing forward selection here."
   ]
  },
  {
   "cell_type": "code",
   "execution_count": 12,
   "id": "0ccc6dec",
   "metadata": {},
   "outputs": [
    {
     "data": {
      "text/plain": [
       "(['poverty',\n",
       "  'popDensity',\n",
       "  'percentFemale',\n",
       "  'savings',\n",
       "  'percentVeterans',\n",
       "  'percentNursing',\n",
       "  'income',\n",
       "  'crimeIndex',\n",
       "  'age'],\n",
       " [0.2510385196163196,\n",
       "  0.2858298022910579,\n",
       "  0.30914506632485783,\n",
       "  0.31924118502370513,\n",
       "  0.32299256887291694,\n",
       "  0.3248512713869368,\n",
       "  0.32582492389958884,\n",
       "  0.32655325570492566,\n",
       "  0.32690038725174053])"
      ]
     },
     "execution_count": 12,
     "metadata": {},
     "output_type": "execute_result"
    }
   ],
   "source": [
    "all_regressors = ['age', 'savings', 'income', 'poverty', 'percentVeterans', 'percentFemale', 'popDensity', 'percentNursing', 'crimeIndex']\n",
    "best_regressors(9, all_regressors)"
   ]
  },
  {
   "attachments": {},
   "cell_type": "markdown",
   "id": "ac153dfc",
   "metadata": {},
   "source": [
    "### Plot the R-squared values as regressors are added in the best order."
   ]
  },
  {
   "cell_type": "code",
   "execution_count": 13,
   "id": "318ba2ea",
   "metadata": {},
   "outputs": [
    {
     "data": {
      "text/plain": [
       "Text(0.5, 1.0, 'R-squared vs. Regressors')"
      ]
     },
     "execution_count": 13,
     "metadata": {},
     "output_type": "execute_result"
    },
    {
     "data": {
      "image/png": "[encoded data removed]",
      "text/plain": [
       "<Figure size 640x480 with 1 Axes>"
      ]
     },
     "metadata": {},
     "output_type": "display_data"
    }
   ],
   "source": [
    "import matplotlib.pyplot as plt\n",
    "\n",
    "plt.plot(best_regressors(9, all_regressors)[0], best_regressors(9, all_regressors)[1])\n",
    "\n",
    "# Make the x axis labels readable\n",
    "plt.xticks(rotation=90)\n",
    "\n",
    "plt.ylabel('R-squared')\n",
    "plt.xlabel('Regressors')\n",
    "plt.title('R-squared vs. Regressors')"
   ]
  },
  {
   "cell_type": "markdown",
   "id": "2b07c5a9",
   "metadata": {},
   "source": [
    "---\n",
    "# K-Nearest Neighbors Classification\n",
    "We will work with the same dataset as above."
   ]
  },
  {
   "attachments": {},
   "cell_type": "markdown",
   "id": "301c8b94",
   "metadata": {},
   "source": [
    "### Create a classification target.\n",
    "We attached a new column, called `target` to the DataFrame, whose value for each row is either 1 (if `percentVoting` is at least 40.0), or 0 (if `percentVoting` is less than 40.0)."
   ]
  },
  {
   "cell_type": "code",
   "execution_count": 14,
   "id": "55d95836",
   "metadata": {},
   "outputs": [
    {
     "data": {
      "text/html": [
       "<div>\n",
       "<style scoped>\n",
       "    .dataframe tbody tr th:only-of-type {\n",
       "        vertical-align: middle;\n",
       "    }\n",
       "\n",
       "    .dataframe tbody tr th {\n",
       "        vertical-align: top;\n",
       "    }\n",
       "\n",
       "    .dataframe thead th {\n",
       "        text-align: right;\n",
       "    }\n",
       "</style>\n",
       "<table border=\"1\" class=\"dataframe\">\n",
       "  <thead>\n",
       "    <tr style=\"text-align: right;\">\n",
       "      <th></th>\n",
       "      <th>county</th>\n",
       "      <th>percentVoting</th>\n",
       "      <th>age</th>\n",
       "      <th>savings</th>\n",
       "      <th>income</th>\n",
       "      <th>poverty</th>\n",
       "      <th>percentVeterans</th>\n",
       "      <th>percentFemale</th>\n",
       "      <th>popDensity</th>\n",
       "      <th>percentNursing</th>\n",
       "      <th>crimeIndex</th>\n",
       "      <th>target</th>\n",
       "    </tr>\n",
       "  </thead>\n",
       "  <tbody>\n",
       "    <tr>\n",
       "      <th>0</th>\n",
       "      <td>Autauga, AL</td>\n",
       "      <td>30.92</td>\n",
       "      <td>31.7</td>\n",
       "      <td>57623</td>\n",
       "      <td>15768</td>\n",
       "      <td>15.2</td>\n",
       "      <td>10.74</td>\n",
       "      <td>51.41</td>\n",
       "      <td>60.4</td>\n",
       "      <td>2.36</td>\n",
       "      <td>457</td>\n",
       "      <td>0</td>\n",
       "    </tr>\n",
       "    <tr>\n",
       "      <th>1</th>\n",
       "      <td>Baldwin, AL</td>\n",
       "      <td>26.24</td>\n",
       "      <td>35.5</td>\n",
       "      <td>84935</td>\n",
       "      <td>16954</td>\n",
       "      <td>13.6</td>\n",
       "      <td>9.73</td>\n",
       "      <td>51.34</td>\n",
       "      <td>66.5</td>\n",
       "      <td>5.40</td>\n",
       "      <td>282</td>\n",
       "      <td>0</td>\n",
       "    </tr>\n",
       "    <tr>\n",
       "      <th>2</th>\n",
       "      <td>Barbour, AL</td>\n",
       "      <td>46.36</td>\n",
       "      <td>32.8</td>\n",
       "      <td>83656</td>\n",
       "      <td>15532</td>\n",
       "      <td>25.0</td>\n",
       "      <td>8.82</td>\n",
       "      <td>53.03</td>\n",
       "      <td>28.8</td>\n",
       "      <td>7.02</td>\n",
       "      <td>47</td>\n",
       "      <td>1</td>\n",
       "    </tr>\n",
       "    <tr>\n",
       "      <th>3</th>\n",
       "      <td>Blount, AL</td>\n",
       "      <td>32.92</td>\n",
       "      <td>34.5</td>\n",
       "      <td>61249</td>\n",
       "      <td>14820</td>\n",
       "      <td>15.0</td>\n",
       "      <td>9.67</td>\n",
       "      <td>51.15</td>\n",
       "      <td>62.4</td>\n",
       "      <td>2.36</td>\n",
       "      <td>185</td>\n",
       "      <td>0</td>\n",
       "    </tr>\n",
       "    <tr>\n",
       "      <th>4</th>\n",
       "      <td>Bullock, AL</td>\n",
       "      <td>67.67</td>\n",
       "      <td>31.7</td>\n",
       "      <td>75725</td>\n",
       "      <td>11120</td>\n",
       "      <td>33.0</td>\n",
       "      <td>7.08</td>\n",
       "      <td>50.76</td>\n",
       "      <td>17.6</td>\n",
       "      <td>2.91</td>\n",
       "      <td>141</td>\n",
       "      <td>1</td>\n",
       "    </tr>\n",
       "  </tbody>\n",
       "</table>\n",
       "</div>"
      ],
      "text/plain": [
       "        county  percentVoting   age  savings  income  poverty  \\\n",
       "0  Autauga, AL          30.92  31.7    57623   15768     15.2   \n",
       "1  Baldwin, AL          26.24  35.5    84935   16954     13.6   \n",
       "2  Barbour, AL          46.36  32.8    83656   15532     25.0   \n",
       "3   Blount, AL          32.92  34.5    61249   14820     15.0   \n",
       "4  Bullock, AL          67.67  31.7    75725   11120     33.0   \n",
       "\n",
       "   percentVeterans  percentFemale  popDensity  percentNursing  crimeIndex  \\\n",
       "0            10.74          51.41        60.4            2.36         457   \n",
       "1             9.73          51.34        66.5            5.40         282   \n",
       "2             8.82          53.03        28.8            7.02          47   \n",
       "3             9.67          51.15        62.4            2.36         185   \n",
       "4             7.08          50.76        17.6            2.91         141   \n",
       "\n",
       "   target  \n",
       "0       0  \n",
       "1       0  \n",
       "2       1  \n",
       "3       0  \n",
       "4       1  "
      ]
     },
     "execution_count": 14,
     "metadata": {},
     "output_type": "execute_result"
    }
   ],
   "source": [
    "df['target'] = df['percentVoting'].apply(lambda x: 1 if x >= 40.0 else 0)\n",
    "\n",
    "df.head()"
   ]
  },
  {
   "attachments": {},
   "cell_type": "markdown",
   "id": "d59491dd",
   "metadata": {},
   "source": [
    "### Create training and test sets.\n",
    "* We create a design matrices for predicting the `target` using just the two most predictive features: `poverty` and `popdensity`.\n",
    "* We then split this into design matrices for training and testing datasets, with 70% data being used for training, and 30% for testing."
   ]
  },
  {
   "cell_type": "code",
   "execution_count": 15,
   "id": "0028d2db",
   "metadata": {},
   "outputs": [],
   "source": [
    "from sklearn.model_selection import train_test_split\n",
    "Y, X = dmatrices('target ~ poverty + popDensity', data=df, return_type='dataframe')\n",
    "y = Y['target'].values\n",
    "\n",
    "X_train, X_test, y_train, y_test = train_test_split(X, y, test_size=0.3, random_state=0)"
   ]
  },
  {
   "attachments": {},
   "cell_type": "markdown",
   "id": "0f94a4b9",
   "metadata": {},
   "source": [
    "### Accuracy of classification.\n",
    "* We use a K-nearest neighbors classifier to predict the target using the two given features\n",
    "* We will look at the performances for 1, 3, 5, 10, 20, 50, 100, and 1000 nearest neighbors"
   ]
  },
  {
   "cell_type": "code",
   "execution_count": 16,
   "id": "722fc1c4",
   "metadata": {},
   "outputs": [
    {
     "name": "stdout",
     "output_type": "stream",
     "text": [
      "k = 1 train accuracy = 0.9968287526427061\n",
      "k = 1 test accuracy = 0.6022167487684729\n",
      "k = 3 train accuracy = 0.7854122621564482\n",
      "k = 3 test accuracy = 0.6391625615763546\n",
      "k = 5 train accuracy = 0.7521141649048626\n",
      "k = 5 test accuracy = 0.6576354679802956\n",
      "k = 10 train accuracy = 0.7087737843551797\n",
      "k = 10 test accuracy = 0.6637931034482759\n",
      "k = 20 train accuracy = 0.6966173361522199\n",
      "k = 20 test accuracy = 0.6884236453201971\n",
      "k = 50 train accuracy = 0.662262156448203\n",
      "k = 50 test accuracy = 0.7007389162561576\n",
      "k = 100 train accuracy = 0.6643763213530656\n",
      "k = 100 test accuracy = 0.6995073891625616\n",
      "k = 1000 train accuracy = 0.5819238900634249\n",
      "k = 1000 test accuracy = 0.5689655172413793\n"
     ]
    }
   ],
   "source": [
    "from sklearn.neighbors import KNeighborsClassifier\n",
    "from sklearn.metrics import accuracy_score\n",
    "\n",
    "for k in [1, 3, 5, 10, 20, 50, 100, 1000]:\n",
    "    knn = KNeighborsClassifier(n_neighbors=k, weights='uniform', p=2)\n",
    "    knn.fit(X_train, y_train)\n",
    "    y_pred = knn.predict(X_train)\n",
    "    print('k =', k, 'train accuracy =', accuracy_score(y_train, y_pred))\n",
    "    y_pred = knn.predict(X_test)\n",
    "    print('k =', k, 'test accuracy =', accuracy_score(y_test, y_pred))"
   ]
  },
  {
   "attachments": {},
   "cell_type": "markdown",
   "id": "f12425da",
   "metadata": {},
   "source": [
    "<b>Findings:</b> we can see k = 1000 leads to the highest test accuracy."
   ]
  },
  {
   "attachments": {},
   "cell_type": "markdown",
   "id": "e2c4b11e",
   "metadata": {},
   "source": [
    "### Plots and reasons.\n",
    "A scatter plot of `popdensity` versus `poverty`, and color the points according to the `target`.\n",
    "\n",
    "What types of counties voted for Bill Clinton?"
   ]
  },
  {
   "cell_type": "code",
   "execution_count": 17,
   "id": "1a5d7763",
   "metadata": {},
   "outputs": [
    {
     "data": {
      "text/plain": [
       "Text(0.5, 1.0, 'Population Density vs. Poverty')"
      ]
     },
     "execution_count": 17,
     "metadata": {},
     "output_type": "execute_result"
    },
    {
     "data": {
      "image/png": "[encoded data removed]",
      "text/plain": [
       "<Figure size 640x480 with 1 Axes>"
      ]
     },
     "metadata": {},
     "output_type": "display_data"
    }
   ],
   "source": [
    "plt.scatter(df['popDensity'], df['poverty'], c=df['target'])\n",
    "\n",
    "plt.legend(['Less than 40%', 'More than 40%'])\n",
    "plt.xlabel('Population Density')\n",
    "plt.ylabel('Poverty')\n",
    "plt.title('Population Density vs. Poverty')\n"
   ]
  },
  {
   "cell_type": "code",
   "execution_count": 18,
   "id": "569fc969",
   "metadata": {},
   "outputs": [
    {
     "data": {
      "text/html": [
       "<div>\n",
       "<style scoped>\n",
       "    .dataframe tbody tr th:only-of-type {\n",
       "        vertical-align: middle;\n",
       "    }\n",
       "\n",
       "    .dataframe tbody tr th {\n",
       "        vertical-align: top;\n",
       "    }\n",
       "\n",
       "    .dataframe thead th {\n",
       "        text-align: right;\n",
       "    }\n",
       "</style>\n",
       "<table border=\"1\" class=\"dataframe\">\n",
       "  <thead>\n",
       "    <tr style=\"text-align: right;\">\n",
       "      <th></th>\n",
       "      <th>county</th>\n",
       "      <th>percentVoting</th>\n",
       "      <th>age</th>\n",
       "      <th>savings</th>\n",
       "      <th>income</th>\n",
       "      <th>poverty</th>\n",
       "      <th>percentVeterans</th>\n",
       "      <th>percentFemale</th>\n",
       "      <th>popDensity</th>\n",
       "      <th>percentNursing</th>\n",
       "      <th>crimeIndex</th>\n",
       "      <th>target</th>\n",
       "    </tr>\n",
       "  </thead>\n",
       "  <tbody>\n",
       "    <tr>\n",
       "      <th>1601</th>\n",
       "      <td>Kings, NY</td>\n",
       "      <td>70.7</td>\n",
       "      <td>32.3</td>\n",
       "      <td>100509</td>\n",
       "      <td>19009</td>\n",
       "      <td>31.6</td>\n",
       "      <td>8.11</td>\n",
       "      <td>53.19</td>\n",
       "      <td>32360.3</td>\n",
       "      <td>4.13</td>\n",
       "      <td>2792</td>\n",
       "      <td>1</td>\n",
       "    </tr>\n",
       "  </tbody>\n",
       "</table>\n",
       "</div>"
      ],
      "text/plain": [
       "         county  percentVoting   age  savings  income  poverty  \\\n",
       "1601  Kings, NY           70.7  32.3   100509   19009     31.6   \n",
       "\n",
       "      percentVeterans  percentFemale  popDensity  percentNursing  crimeIndex  \\\n",
       "1601             8.11          53.19     32360.3            4.13        2792   \n",
       "\n",
       "      target  \n",
       "1601       1  "
      ]
     },
     "execution_count": 18,
     "metadata": {},
     "output_type": "execute_result"
    }
   ],
   "source": [
    "# For the county with max popDensity more than 40% voted for Clinton, so indeed, yellow points are when target = 1, and purple points are when target = 0.\n",
    "df[df['popDensity'] == max(df['popDensity'])]"
   ]
  },
  {
   "attachments": {},
   "cell_type": "markdown",
   "id": "2348d398",
   "metadata": {},
   "source": [
    "<b>Findings:</b> from the graph we can see counties with high population density and poverty rate usually are more likely (more than 40%) to vote for Clinton in 1992."
   ]
  }
 ],
 "metadata": {
  "kernelspec": {
   "display_name": "Python 3 (ipykernel)",
   "language": "python",
   "name": "python3"
  },
  "language_info": {
   "codemirror_mode": {
    "name": "ipython",
    "version": 3
   },
   "file_extension": ".py",
   "mimetype": "text/x-python",
   "name": "python",
   "nbconvert_exporter": "python",
   "pygments_lexer": "ipython3",
   "version": "3.10.5"
  }
 },
 "nbformat": 4,
 "nbformat_minor": 5
}
